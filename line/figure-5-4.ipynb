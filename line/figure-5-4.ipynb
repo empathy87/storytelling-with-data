{
 "cells": [
  {
   "cell_type": "markdown",
   "id": "fa9349ca",
   "metadata": {},
   "source": [
    "### 1. Import packages"
   ]
  },
  {
   "cell_type": "code",
   "execution_count": 6,
   "id": "fa3c2d9c",
   "metadata": {},
   "outputs": [],
   "source": [
    "import numpy as np\n",
    "import matplotlib\n",
    "import pandas as pd\n",
    "from matplotlib import transforms, pyplot as plt\n",
    "from pandas.plotting import parallel_coordinates\n",
    "\n",
    "%matplotlib inline"
   ]
  },
  {
   "cell_type": "markdown",
   "id": "b3293c84",
   "metadata": {},
   "source": [
    "### 2. Define colours"
   ]
  },
  {
   "cell_type": "code",
   "execution_count": 2,
   "id": "61baf3f6",
   "metadata": {},
   "outputs": [],
   "source": [
    "GRAY1, GRAY2, GRAY3 = '#231F20', '#414040', '#555655'\n",
    "GRAY4, GRAY5, GRAY6 = '#646369', '#76787B', '#828282'\n",
    "GRAY7, GRAY8, GRAY9 = '#929497', '#A6A6A5', '#BFBEBE'\n",
    "BLUE1, BLUE2, BLUE3, BLUE4 = '#174A7E', '#4A81BF', '#94B2D7', '#94AFC5'\n",
    "RED1, RED2 = '#C3514E', '#E6BAB7'\n",
    "GREEN1, GREEN2 = '#0C8040', '#9ABB59'\n",
    "ORANGE1 = '#F79747'"
   ]
  },
  {
   "cell_type": "markdown",
   "id": "49e20874",
   "metadata": {},
   "source": [
    "### 3. Define function for multi-colour text generation"
   ]
  },
  {
   "cell_type": "code",
   "execution_count": 3,
   "id": "18281fbd",
   "metadata": {},
   "outputs": [],
   "source": [
    "# matplotlib doesn't have a function for drawing text with\n",
    "# different colors, let's implement it\n",
    "def rainbow_text(x, y, text, colors, spacing=20, ax=None, **kw):\n",
    "    colors = list(reversed(colors))\n",
    "    t = ax.transData\n",
    "    canvas = ax.figure.canvas\n",
    "\n",
    "    for i, line in enumerate(reversed(text.split('\\n'))):\n",
    "        strings = line.split('||')\n",
    "        for s, c in zip(strings, colors[i]):\n",
    "            text = ax.text(x, y, s, color=c, transform=t, **kw)\n",
    "            text.draw(canvas.get_renderer())\n",
    "            ex = text.get_window_extent()\n",
    "            t = transforms.offset_copy(text._transform, x=ex.width, \n",
    "                                       units='dots')\n",
    "\n",
    "        t = transforms.offset_copy(ax.transData, x=0, y=(i + 1) * spacing, \n",
    "                                   units='dots')"
   ]
  },
  {
   "cell_type": "markdown",
   "id": "57b9eff7",
   "metadata": {},
   "source": [
    "### 4. Configure plot"
   ]
  },
  {
   "cell_type": "code",
   "execution_count": 4,
   "id": "f3cdfc18",
   "metadata": {},
   "outputs": [],
   "source": [
    "# configure plot font family to Arial\n",
    "plt.rcParams['font.family'] = 'Arial'\n",
    "# configure mathtext bold and italic font family to Arial\n",
    "matplotlib.rcParams['mathtext.fontset'] = 'custom'\n",
    "matplotlib.rcParams['mathtext.bf'] = 'Arial:bold'\n",
    "matplotlib.rcParams['mathtext.it'] = 'Arial:italic'"
   ]
  },
  {
   "cell_type": "markdown",
   "id": "5e1304f7",
   "metadata": {},
   "source": [
    "### 5. Define data"
   ]
  },
  {
   "cell_type": "code",
   "execution_count": 5,
   "id": "c0bcfdc2",
   "metadata": {},
   "outputs": [],
   "source": [
    "education = [\"Bachelor's degree or more\", 'Some college', 'High school grad', 'Less than high school']\n",
    "year_2008 = [62,43,36,27]\n",
    "year_2009 = [61,42,35,26] #estimated\n",
    "year_2010 = [59,38,30,23] #estimated\n",
    "year_2011 = [56,37.5,30.5,22.5] #estimated\n",
    "year_2012 = [57,37,30,23]"
   ]
  },
  {
   "cell_type": "code",
   "execution_count": 79,
   "id": "4d940325",
   "metadata": {},
   "outputs": [
    {
     "data": {
      "text/html": [
       "<div>\n",
       "<style scoped>\n",
       "    .dataframe tbody tr th:only-of-type {\n",
       "        vertical-align: middle;\n",
       "    }\n",
       "\n",
       "    .dataframe tbody tr th {\n",
       "        vertical-align: top;\n",
       "    }\n",
       "\n",
       "    .dataframe thead th {\n",
       "        text-align: right;\n",
       "    }\n",
       "</style>\n",
       "<table border=\"1\" class=\"dataframe\">\n",
       "  <thead>\n",
       "    <tr style=\"text-align: right;\">\n",
       "      <th></th>\n",
       "      <th>education</th>\n",
       "      <th>2008</th>\n",
       "      <th>2009</th>\n",
       "      <th>2010</th>\n",
       "      <th>2011</th>\n",
       "      <th>2012</th>\n",
       "    </tr>\n",
       "  </thead>\n",
       "  <tbody>\n",
       "    <tr>\n",
       "      <th>0</th>\n",
       "      <td>Bachelor's degree or more</td>\n",
       "      <td>62</td>\n",
       "      <td>61</td>\n",
       "      <td>59</td>\n",
       "      <td>56.0</td>\n",
       "      <td>57</td>\n",
       "    </tr>\n",
       "    <tr>\n",
       "      <th>1</th>\n",
       "      <td>Some college</td>\n",
       "      <td>43</td>\n",
       "      <td>42</td>\n",
       "      <td>38</td>\n",
       "      <td>37.5</td>\n",
       "      <td>37</td>\n",
       "    </tr>\n",
       "    <tr>\n",
       "      <th>2</th>\n",
       "      <td>High school grad</td>\n",
       "      <td>36</td>\n",
       "      <td>35</td>\n",
       "      <td>30</td>\n",
       "      <td>30.5</td>\n",
       "      <td>30</td>\n",
       "    </tr>\n",
       "    <tr>\n",
       "      <th>3</th>\n",
       "      <td>Less than high school</td>\n",
       "      <td>27</td>\n",
       "      <td>26</td>\n",
       "      <td>23</td>\n",
       "      <td>22.5</td>\n",
       "      <td>23</td>\n",
       "    </tr>\n",
       "  </tbody>\n",
       "</table>\n",
       "</div>"
      ],
      "text/plain": [
       "                   education  2008  2009  2010  2011  2012\n",
       "0  Bachelor's degree or more    62    61    59  56.0    57\n",
       "1               Some college    43    42    38  37.5    37\n",
       "2           High school grad    36    35    30  30.5    30\n",
       "3      Less than high school    27    26    23  22.5    23"
      ]
     },
     "execution_count": 79,
     "metadata": {},
     "output_type": "execute_result"
    }
   ],
   "source": [
    "df = pd.DataFrame(list(map(list, zip(*[education,year_2008,year_2009,year_2010,year_2011,year_2012]))))\n",
    "df = df.rename(columns = {0:'education',1:'2008',2:'2009',3:'2010',4:'2011',5:'2012'})\n",
    "df"
   ]
  },
  {
   "cell_type": "code",
   "execution_count": 207,
   "id": "ae641386",
   "metadata": {},
   "outputs": [
    {
     "data": {
      "image/png": "[encoded data removed]",
      "text/plain": [
       "<Figure size 836x605 with 2 Axes>"
      ]
     },
     "metadata": {},
     "output_type": "display_data"
    }
   ],
   "source": [
    "#Create figure and plot axes\n",
    "fig, ax1 = plt.subplots(figsize=(7.6, 5.5),  # width, height in inches\n",
    "                        dpi=110)             # resolution of the figure\n",
    "\n",
    "#Tune the subplot layout by setting sides of the figure\n",
    "plt.subplots_adjust(left=0.065, right=0.43, top=0.76, bottom=0.19)\n",
    "\n",
    "#Create a twin Axes sharing the xaxis with the same limits for y-axis\n",
    "ax2 = ax1.twinx()\n",
    "\n",
    "#Set yaxes limits\n",
    "ax2.set_ylim([0, 70])\n",
    "ax1.set_ylim([0, 70])\n",
    "\n",
    "#Assign colors for responses\n",
    "C = [ORANGE1,GRAY8, GRAY8, GRAY8]\n",
    "\n",
    "#Create plot \n",
    "#1. parallel coordinate plot\n",
    "parallel_coordinates(df, 'education',axvlines=False,color=C,linewidth=3)\n",
    "#2. Scatterplot for points\n",
    "for i in range(len(year_2008)):\n",
    "    #Draw circles\n",
    "    ax1.scatter([0, 4], [year_2008[i], year_2012[i]], color=C[i], s=50, clip_on=False)\n",
    "    \n",
    "    # add label\n",
    "    plt.text(-0.5,\n",
    "             year_2008[i] -1,\n",
    "             education[i],\n",
    "             fontsize=10,\n",
    "             linespacing=1.5,\n",
    "             horizontalalignment='right',\n",
    "             color=C[i])\n",
    "\n",
    "#For each of the axes\n",
    "for ax in (ax1, ax2):\n",
    "    \n",
    "    #Remove borderlines\n",
    "    for spine in ax.spines.values():\n",
    "        spine.set_visible(False)\n",
    "        \n",
    "    #Remove gridlines\n",
    "    ax.yaxis.grid(False)\n",
    "    ax.xaxis.grid(False)\n",
    "    \n",
    "    #Remove tick line\n",
    "    ax.tick_params(axis='y', which='both', length=0)\n",
    "\n",
    "#Set properties for y-axes object\n",
    "for ax, year in [(ax1,'2008'),(ax2,'2012')]:\n",
    "    plt.setp(ax,\n",
    "             yticks=df[year], \n",
    "             yticklabels=[str(v) for v in df[year]]) \n",
    "\n",
    "#Configure both y's tick labels appearance\n",
    "for ax, xshift in ((ax1, -0.05), (ax2, 0.07)):\n",
    "    for i, item in enumerate(ax.get_yticklabels()):\n",
    "        item.set_fontsize(10)\n",
    "        if i == 0: \n",
    "            item.set_fontweight('bold')\n",
    "        item.set_color(C[i])\n",
    "        # use trasformations to shift y tick labels\n",
    "        # left y labels slightly right, and right labels slightly left\n",
    "        offset = transforms.ScaledTranslation(xshift, 0, fig.dpi_scale_trans)\n",
    "        item.set_transform(item.get_transform() + offset)\n",
    "\n",
    "#Change x ticks color\n",
    "ax1.tick_params(axis='x', colors=GRAY7)\n",
    "\n",
    "#Add bottom spine with gray color and bounds between 0 and 1\n",
    "ax1.spines['bottom'].set_visible(True)\n",
    "ax1.spines['bottom'].set_bounds(0, 4)\n",
    "ax1.spines['bottom'].set_color(GRAY7)\n",
    "        \n",
    "#Configure x tick label appearance\n",
    "for item in ax1.get_xticklabels():\n",
    "    item.set_fontsize(10)\n",
    "    item.set_color(GRAY2)\n",
    "               \n",
    "#Remove legend\n",
    "ax2.legend().set_visible(False)\n",
    "\n",
    "#Add title\n",
    "plt.text(-2.9, 75, 'New marriage rate by education', fontsize=15, \n",
    "         color=GRAY3)\n",
    "plt.text(-2.9, 71, 'Number of newly married adults per 1,000 marriage eligible adults', fontsize=10, \n",
    "         color=GRAY5)\n",
    "\n",
    "#Add subtitle\n",
    "plt.text(-2.9, -30,\n",
    "         \"\"\"Note: Marriage eligible includes the newly married plus those widowed, divorced,\\nor never married at interview.\\nSource: U.S. Census\\nAdapted from PEW RESEARCH CENTER\"\"\",\n",
    "         fontsize=10,\n",
    "         linespacing=1.5,\n",
    "         color=GRAY5)\n",
    "\n",
    "plt.show()"
   ]
  }
 ],
 "metadata": {
  "kernelspec": {
   "display_name": "Python 3",
   "language": "python",
   "name": "python3"
  },
  "language_info": {
   "codemirror_mode": {
    "name": "ipython",
    "version": 3
   },
   "file_extension": ".py",
   "mimetype": "text/x-python",
   "name": "python",
   "nbconvert_exporter": "python",
   "pygments_lexer": "ipython3",
   "version": "3.7.11"
  }
 },
 "nbformat": 4,
 "nbformat_minor": 5
}
